{
 "cells": [
  {
   "cell_type": "code",
   "execution_count": 1,
   "metadata": {
    "ExecuteTime": {
     "end_time": "2020-10-13T22:00:27.820744Z",
     "start_time": "2020-10-13T22:00:17.457062Z"
    }
   },
   "outputs": [
    {
     "name": "stdout",
     "output_type": "stream",
     "text": [
      "*** Introductory Examples for the NLTK Book ***\n",
      "Loading text1, ..., text9 and sent1, ..., sent9\n",
      "Type the name of the text or sentence to view it.\n",
      "Type: 'texts()' or 'sents()' to list the materials.\n",
      "text1: Moby Dick by Herman Melville 1851\n",
      "text2: Sense and Sensibility by Jane Austen 1811\n",
      "text3: The Book of Genesis\n",
      "text4: Inaugural Address Corpus\n",
      "text5: Chat Corpus\n",
      "text6: Monty Python and the Holy Grail\n",
      "text7: Wall Street Journal\n",
      "text8: Personals Corpus\n",
      "text9: The Man Who Was Thursday by G . K . Chesterton 1908\n"
     ]
    }
   ],
   "source": [
    "from nltk.book import *"
   ]
  },
  {
   "cell_type": "markdown",
   "metadata": {},
   "source": [
    "__Q1__"
   ]
  },
  {
   "cell_type": "code",
   "execution_count": 2,
   "metadata": {
    "ExecuteTime": {
     "end_time": "2020-10-13T22:00:27.852465Z",
     "start_time": "2020-10-13T22:00:27.824743Z"
    }
   },
   "outputs": [
    {
     "data": {
      "text/plain": [
       "2.4"
      ]
     },
     "execution_count": 2,
     "metadata": {},
     "output_type": "execute_result"
    }
   ],
   "source": [
    "12/(4+1)"
   ]
  },
  {
   "cell_type": "markdown",
   "metadata": {},
   "source": [
    "__Q2__"
   ]
  },
  {
   "cell_type": "code",
   "execution_count": 3,
   "metadata": {
    "ExecuteTime": {
     "end_time": "2020-10-13T22:00:27.883726Z",
     "start_time": "2020-10-13T22:00:27.857139Z"
    }
   },
   "outputs": [
    {
     "data": {
      "text/plain": [
       "3142930641582938830174357788501626427282669988762475256374173175398995908420104023465432599069702289330964075081611719197835869803511992549376"
      ]
     },
     "execution_count": 3,
     "metadata": {},
     "output_type": "execute_result"
    }
   ],
   "source": [
    "26**100"
   ]
  },
  {
   "cell_type": "markdown",
   "metadata": {},
   "source": [
    "__Q3__"
   ]
  },
  {
   "cell_type": "code",
   "execution_count": 4,
   "metadata": {
    "ExecuteTime": {
     "end_time": "2020-10-13T22:00:27.913897Z",
     "start_time": "2020-10-13T22:00:27.891907Z"
    }
   },
   "outputs": [
    {
     "name": "stdout",
     "output_type": "stream",
     "text": [
      "['Monthy', 'Python', 'Monthy', 'Python', 'Monthy', 'Python', 'Monthy', 'Python', 'Monthy', 'Python', 'Monthy', 'Python', 'Monthy', 'Python', 'Monthy', 'Python', 'Monthy', 'Python', 'Monthy', 'Python', 'Monthy', 'Python', 'Monthy', 'Python', 'Monthy', 'Python', 'Monthy', 'Python', 'Monthy', 'Python', 'Monthy', 'Python', 'Monthy', 'Python', 'Monthy', 'Python', 'Monthy', 'Python', 'Monthy', 'Python']\n",
      "['Call', 'me', 'Ishmael', '.', 'Call', 'me', 'Ishmael', '.', 'Call', 'me', 'Ishmael', '.']\n"
     ]
    }
   ],
   "source": [
    "print(['Monthy', 'Python'] * 20)\n",
    "print(3 * sent1)"
   ]
  },
  {
   "cell_type": "markdown",
   "metadata": {},
   "source": [
    "__Q4__"
   ]
  },
  {
   "cell_type": "code",
   "execution_count": 5,
   "metadata": {
    "ExecuteTime": {
     "end_time": "2020-10-13T22:00:28.159215Z",
     "start_time": "2020-10-13T22:00:27.919079Z"
    }
   },
   "outputs": [
    {
     "name": "stdout",
     "output_type": "stream",
     "text": [
      "141576\n",
      "\n",
      "6833\n",
      "\n",
      "6403\n"
     ]
    }
   ],
   "source": [
    "print(len(text2), end='\\n\\n') # number of words\n",
    "print(len(set(text2)), end='\\n\\n') # number of unique words - case sensitive\n",
    "print(len(set([w.lower() for w in text2]))) # number of unique words"
   ]
  },
  {
   "cell_type": "markdown",
   "metadata": {
    "ExecuteTime": {
     "end_time": "2020-10-13T20:43:50.943064Z",
     "start_time": "2020-10-13T20:43:50.237290Z"
    }
   },
   "source": [
    "__Q5__"
   ]
  },
  {
   "cell_type": "markdown",
   "metadata": {},
   "source": [
    "* humor -> lexical diversity : 4.3 ; number of tokens : 21695\n",
    "* romance -> lexical diversity : 8.3 ; number of tokens : 70022\n",
    "* romance is more lexically diverse which means that each unique word is romance\n",
    "* on average occurs twice of each unique word in humor.\n",
    "* the most lexically diversed genre is romance.\n",
    "__NOTE!!!__ `type` is a unique word in a text. It is given in the table 1.1.\n"
   ]
  },
  {
   "cell_type": "markdown",
   "metadata": {},
   "source": [
    "__Q6__"
   ]
  },
  {
   "cell_type": "code",
   "execution_count": 6,
   "metadata": {
    "ExecuteTime": {
     "end_time": "2020-10-13T22:00:29.072330Z",
     "start_time": "2020-10-13T22:00:28.264329Z"
    }
   },
   "outputs": [
    {
     "data": {
      "image/png": "[encoded data removed]",
      "text/plain": [
       "<Figure size 432x288 with 1 Axes>"
      ]
     },
     "metadata": {
      "needs_background": "light"
     },
     "output_type": "display_data"
    }
   ],
   "source": [
    "text2.dispersion_plot([\"Elinor\", \"Marianne\", \"Edward\", \"Willoughby\"])"
   ]
  },
  {
   "cell_type": "markdown",
   "metadata": {},
   "source": [
    "* Elinor and Marianne are the main characters in the novel and they are couple."
   ]
  },
  {
   "cell_type": "markdown",
   "metadata": {
    "ExecuteTime": {
     "end_time": "2020-10-13T20:51:53.379102Z",
     "start_time": "2020-10-13T20:51:53.294129Z"
    }
   },
   "source": [
    "__Q7__"
   ]
  },
  {
   "cell_type": "code",
   "execution_count": 7,
   "metadata": {
    "ExecuteTime": {
     "end_time": "2020-10-13T22:00:29.333393Z",
     "start_time": "2020-10-13T22:00:29.078330Z"
    }
   },
   "outputs": [
    {
     "name": "stdout",
     "output_type": "stream",
     "text": [
      "wanna chat; PART JOIN; MODE #14-19teens; JOIN PART; PART PART;\n",
      "cute.-ass MP3; MP3 player; JOIN JOIN; times .. .; ACTION watches; guys\n",
      "wanna; song lasts; last night; ACTION sits; -...)...- S.M.R.; Lime\n",
      "Player; Player 12%; dont know; lez gurls; long time\n"
     ]
    }
   ],
   "source": [
    "text5.collocations()"
   ]
  },
  {
   "cell_type": "markdown",
   "metadata": {},
   "source": [
    "__Q8__"
   ]
  },
  {
   "cell_type": "markdown",
   "metadata": {},
   "source": [
    "`len(set(text4))` \n",
    "1. takes the unique words\n",
    "2. counts the number of unique words"
   ]
  },
  {
   "cell_type": "markdown",
   "metadata": {},
   "source": [
    "__Q9__"
   ]
  },
  {
   "cell_type": "code",
   "execution_count": 8,
   "metadata": {
    "ExecuteTime": {
     "end_time": "2020-10-13T22:00:29.348144Z",
     "start_time": "2020-10-13T22:00:29.339145Z"
    }
   },
   "outputs": [
    {
     "data": {
      "text/plain": [
       "'I study the book of NLP.'"
      ]
     },
     "metadata": {},
     "output_type": "display_data"
    },
    {
     "name": "stdout",
     "output_type": "stream",
     "text": [
      "I study the book of NLP.\n"
     ]
    }
   ],
   "source": [
    "my_string = 'I study the book of NLP.'\n",
    "display(my_string)\n",
    "print(my_string)"
   ]
  },
  {
   "cell_type": "code",
   "execution_count": 9,
   "metadata": {
    "ExecuteTime": {
     "end_time": "2020-10-13T22:00:29.378509Z",
     "start_time": "2020-10-13T22:00:29.353772Z"
    }
   },
   "outputs": [
    {
     "data": {
      "text/plain": [
       "'I study the book of NLP.I study the book of NLP.'"
      ]
     },
     "execution_count": 9,
     "metadata": {},
     "output_type": "execute_result"
    }
   ],
   "source": [
    "my_string + my_string"
   ]
  },
  {
   "cell_type": "code",
   "execution_count": 10,
   "metadata": {
    "ExecuteTime": {
     "end_time": "2020-10-13T22:00:29.409900Z",
     "start_time": "2020-10-13T22:00:29.382508Z"
    }
   },
   "outputs": [
    {
     "data": {
      "text/plain": [
       "'I study the book of NLP. I study the book of NLP.'"
      ]
     },
     "execution_count": 10,
     "metadata": {},
     "output_type": "execute_result"
    }
   ],
   "source": [
    "my_string + ' ' + my_string"
   ]
  },
  {
   "cell_type": "code",
   "execution_count": 11,
   "metadata": {
    "ExecuteTime": {
     "end_time": "2020-10-13T22:00:29.441132Z",
     "start_time": "2020-10-13T22:00:29.415896Z"
    }
   },
   "outputs": [
    {
     "data": {
      "text/plain": [
       "'I study the book of NLP. I study the book of NLP. I study the book of NLP. '"
      ]
     },
     "execution_count": 11,
     "metadata": {},
     "output_type": "execute_result"
    }
   ],
   "source": [
    "(my_string + ' ') * 3"
   ]
  },
  {
   "cell_type": "markdown",
   "metadata": {},
   "source": [
    "__Q10__"
   ]
  },
  {
   "cell_type": "code",
   "execution_count": 12,
   "metadata": {
    "ExecuteTime": {
     "end_time": "2020-10-13T22:00:29.472576Z",
     "start_time": "2020-10-13T22:00:29.446129Z"
    }
   },
   "outputs": [],
   "source": [
    "my_sent = ['I', 'study', 'the', 'book', 'of', 'NLP', '.']"
   ]
  },
  {
   "cell_type": "code",
   "execution_count": 13,
   "metadata": {
    "ExecuteTime": {
     "end_time": "2020-10-13T22:00:29.503849Z",
     "start_time": "2020-10-13T22:00:29.476573Z"
    }
   },
   "outputs": [
    {
     "name": "stdout",
     "output_type": "stream",
     "text": [
      "I study the book of NLP .\n"
     ]
    }
   ],
   "source": [
    "print(' '.join(my_sent))"
   ]
  },
  {
   "cell_type": "code",
   "execution_count": 14,
   "metadata": {
    "ExecuteTime": {
     "end_time": "2020-10-13T22:00:29.520065Z",
     "start_time": "2020-10-13T22:00:29.507830Z"
    }
   },
   "outputs": [
    {
     "name": "stdout",
     "output_type": "stream",
     "text": [
      "['I', 'study', 'the', 'book', 'of', 'NLP', '.']\n"
     ]
    }
   ],
   "source": [
    "print(' '.join(my_sent).split(' '))"
   ]
  },
  {
   "cell_type": "markdown",
   "metadata": {},
   "source": [
    "__Q11__"
   ]
  },
  {
   "cell_type": "code",
   "execution_count": 15,
   "metadata": {
    "ExecuteTime": {
     "end_time": "2020-10-13T22:00:29.551189Z",
     "start_time": "2020-10-13T22:00:29.525538Z"
    }
   },
   "outputs": [],
   "source": [
    "phrase1 = ['I', 'study', 'the', 'book', 'of', 'NLP', '.']\n",
    "phrase2 = ['Natural', 'Language', 'Processing', 'is', 'cool', '.']"
   ]
  },
  {
   "cell_type": "code",
   "execution_count": 16,
   "metadata": {
    "ExecuteTime": {
     "end_time": "2020-10-13T22:00:29.582566Z",
     "start_time": "2020-10-13T22:00:29.556180Z"
    }
   },
   "outputs": [
    {
     "name": "stdout",
     "output_type": "stream",
     "text": [
      "13\n",
      "13\n"
     ]
    }
   ],
   "source": [
    "print(len(phrase1) + len(phrase2))\n",
    "print(len(phrase1 + phrase2))"
   ]
  },
  {
   "cell_type": "markdown",
   "metadata": {},
   "source": [
    "__Q12__"
   ]
  },
  {
   "cell_type": "code",
   "execution_count": 17,
   "metadata": {
    "ExecuteTime": {
     "end_time": "2020-10-13T22:00:29.615203Z",
     "start_time": "2020-10-13T22:00:29.590849Z"
    }
   },
   "outputs": [
    {
     "data": {
      "text/plain": [
       "'Python'"
      ]
     },
     "metadata": {},
     "output_type": "display_data"
    },
    {
     "data": {
      "text/plain": [
       "'Python'"
      ]
     },
     "metadata": {},
     "output_type": "display_data"
    }
   ],
   "source": [
    "display('Monty Python'[6:12])\n",
    "display(['Monty', 'Python'][1])"
   ]
  },
  {
   "cell_type": "markdown",
   "metadata": {},
   "source": [
    "* Even though, they have the same value, the second one is more relevant to NLP since it is in the form of tokens."
   ]
  },
  {
   "cell_type": "markdown",
   "metadata": {},
   "source": [
    "__Q13__"
   ]
  },
  {
   "cell_type": "code",
   "execution_count": 18,
   "metadata": {
    "ExecuteTime": {
     "end_time": "2020-10-13T22:00:29.644369Z",
     "start_time": "2020-10-13T22:00:29.623599Z"
    }
   },
   "outputs": [
    {
     "data": {
      "text/plain": [
       "'h'"
      ]
     },
     "execution_count": 18,
     "metadata": {},
     "output_type": "execute_result"
    }
   ],
   "source": [
    "sent1[2][2]"
   ]
  },
  {
   "cell_type": "code",
   "execution_count": 19,
   "metadata": {
    "ExecuteTime": {
     "end_time": "2020-10-13T22:00:29.674590Z",
     "start_time": "2020-10-13T22:00:29.650368Z"
    }
   },
   "outputs": [
    {
     "data": {
      "text/plain": [
       "'Ishmael'"
      ]
     },
     "execution_count": 19,
     "metadata": {},
     "output_type": "execute_result"
    }
   ],
   "source": [
    "sent1[2]"
   ]
  },
  {
   "cell_type": "markdown",
   "metadata": {},
   "source": [
    "* It takes the third  word in the sentence, then it takes the third character in that word."
   ]
  },
  {
   "cell_type": "markdown",
   "metadata": {},
   "source": [
    "__Q14__"
   ]
  },
  {
   "cell_type": "code",
   "execution_count": 20,
   "metadata": {
    "ExecuteTime": {
     "end_time": "2020-10-13T22:00:29.690366Z",
     "start_time": "2020-10-13T22:00:29.679592Z"
    }
   },
   "outputs": [
    {
     "data": {
      "text/plain": [
       "3"
      ]
     },
     "execution_count": 20,
     "metadata": {},
     "output_type": "execute_result"
    }
   ],
   "source": [
    "fdist = FreqDist(sent3)\n",
    "fdist['the']"
   ]
  },
  {
   "cell_type": "code",
   "execution_count": 21,
   "metadata": {
    "ExecuteTime": {
     "end_time": "2020-10-13T22:00:29.725696Z",
     "start_time": "2020-10-13T22:00:29.694358Z"
    }
   },
   "outputs": [
    {
     "name": "stdout",
     "output_type": "stream",
     "text": [
      "1\n",
      "5\n",
      "8\n"
     ]
    }
   ],
   "source": [
    "for idx, word in enumerate(sent3):\n",
    "    if word == 'the':\n",
    "        print(idx)"
   ]
  },
  {
   "cell_type": "markdown",
   "metadata": {},
   "source": [
    "* An alternative way is to manually iterate"
   ]
  },
  {
   "cell_type": "code",
   "execution_count": 22,
   "metadata": {
    "ExecuteTime": {
     "end_time": "2020-10-13T22:00:29.751399Z",
     "start_time": "2020-10-13T22:00:29.733693Z"
    }
   },
   "outputs": [
    {
     "data": {
      "text/plain": [
       "1"
      ]
     },
     "execution_count": 22,
     "metadata": {},
     "output_type": "execute_result"
    }
   ],
   "source": [
    "sent3.index('the')"
   ]
  },
  {
   "cell_type": "code",
   "execution_count": 23,
   "metadata": {
    "ExecuteTime": {
     "end_time": "2020-10-13T22:00:29.798437Z",
     "start_time": "2020-10-13T22:00:29.755961Z"
    }
   },
   "outputs": [
    {
     "data": {
      "text/plain": [
       "5"
      ]
     },
     "execution_count": 23,
     "metadata": {},
     "output_type": "execute_result"
    }
   ],
   "source": [
    "sent3[2:].index('the') + 2 # excluede two characters "
   ]
  },
  {
   "cell_type": "code",
   "execution_count": 24,
   "metadata": {
    "ExecuteTime": {
     "end_time": "2020-10-13T22:00:29.828817Z",
     "start_time": "2020-10-13T22:00:29.805108Z"
    }
   },
   "outputs": [
    {
     "data": {
      "text/plain": [
       "8"
      ]
     },
     "execution_count": 24,
     "metadata": {},
     "output_type": "execute_result"
    }
   ],
   "source": [
    "sent3[6:].index('the') + 6 # excluded six characters "
   ]
  },
  {
   "cell_type": "markdown",
   "metadata": {},
   "source": [
    "__Q15__"
   ]
  },
  {
   "cell_type": "code",
   "execution_count": 25,
   "metadata": {
    "ExecuteTime": {
     "end_time": "2020-10-13T22:00:29.952338Z",
     "start_time": "2020-10-13T22:00:29.832815Z"
    }
   },
   "outputs": [
    {
     "data": {
      "text/plain": [
       "['b',\n",
       " 'b-day',\n",
       " 'b/c',\n",
       " 'b4',\n",
       " 'babay',\n",
       " 'babble',\n",
       " 'babblein',\n",
       " 'babe',\n",
       " 'babes',\n",
       " 'babi',\n",
       " 'babies',\n",
       " 'babiess',\n",
       " 'baby',\n",
       " 'babycakeses',\n",
       " 'bachelorette',\n",
       " 'back',\n",
       " 'backatchya',\n",
       " 'backfrontsidewaysandallaroundtheworld',\n",
       " 'backroom',\n",
       " 'backup',\n",
       " 'bacl',\n",
       " 'bad',\n",
       " 'bag',\n",
       " 'bagel',\n",
       " 'bagels',\n",
       " 'bahahahaa',\n",
       " 'bak',\n",
       " 'baked',\n",
       " 'balad',\n",
       " 'balance',\n",
       " 'balck',\n",
       " 'ball',\n",
       " 'ballin',\n",
       " 'balls',\n",
       " 'ban',\n",
       " 'band',\n",
       " 'bandito',\n",
       " 'bandsaw',\n",
       " 'banjoes',\n",
       " 'banned',\n",
       " 'baord',\n",
       " 'bar',\n",
       " 'barbie',\n",
       " 'bare',\n",
       " 'barely',\n",
       " 'bares',\n",
       " 'barfights',\n",
       " 'barks',\n",
       " 'barn',\n",
       " 'barrel',\n",
       " 'base',\n",
       " 'bases',\n",
       " 'basically',\n",
       " 'basket',\n",
       " 'battery',\n",
       " 'bay',\n",
       " 'bbbbbyyyyyyyeeeeeeeee',\n",
       " 'bbiam',\n",
       " 'bbl',\n",
       " 'bbs',\n",
       " 'bc',\n",
       " 'be',\n",
       " 'beach',\n",
       " 'beachhhh',\n",
       " 'beam',\n",
       " 'beams',\n",
       " 'beanbag',\n",
       " 'beans',\n",
       " 'bear',\n",
       " 'bears',\n",
       " 'beat',\n",
       " 'beaten',\n",
       " 'beatles',\n",
       " 'beats',\n",
       " 'beattles',\n",
       " 'beautiful',\n",
       " 'because',\n",
       " 'beckley',\n",
       " 'become',\n",
       " 'bed',\n",
       " 'bedford',\n",
       " 'bedroom',\n",
       " 'beeeeehave',\n",
       " 'beeehave',\n",
       " 'been',\n",
       " 'beer',\n",
       " 'before',\n",
       " 'beg',\n",
       " 'begin',\n",
       " 'behave',\n",
       " 'behind',\n",
       " 'bein',\n",
       " 'being',\n",
       " 'beleive',\n",
       " 'believe',\n",
       " 'belive',\n",
       " 'bell',\n",
       " 'belly',\n",
       " 'belong',\n",
       " 'belongings',\n",
       " 'ben',\n",
       " 'bend',\n",
       " 'benz',\n",
       " 'bes',\n",
       " 'beside',\n",
       " 'besides',\n",
       " 'best',\n",
       " 'bet',\n",
       " 'betrayal',\n",
       " 'betta',\n",
       " 'better',\n",
       " 'between',\n",
       " 'beuty',\n",
       " 'bf',\n",
       " 'bi',\n",
       " 'biatch',\n",
       " 'bible',\n",
       " 'biebsa',\n",
       " 'bied',\n",
       " 'big',\n",
       " 'bigest',\n",
       " 'biggest',\n",
       " 'biiiatch',\n",
       " 'bike',\n",
       " 'bikes',\n",
       " 'bikini',\n",
       " 'bio',\n",
       " 'bird',\n",
       " 'birfday',\n",
       " 'birthday',\n",
       " 'bisexual',\n",
       " 'bishes',\n",
       " 'bit',\n",
       " 'bitch',\n",
       " 'bitches',\n",
       " 'bitdh',\n",
       " 'bite',\n",
       " 'bites',\n",
       " 'biyatch',\n",
       " 'biz',\n",
       " 'bj',\n",
       " 'black',\n",
       " 'blade',\n",
       " 'blah',\n",
       " 'blank',\n",
       " 'blankie',\n",
       " 'blazed',\n",
       " 'bleach',\n",
       " 'blech',\n",
       " 'bless',\n",
       " 'blessings',\n",
       " 'blew',\n",
       " 'blind',\n",
       " 'blinks',\n",
       " 'bliss',\n",
       " 'blocking',\n",
       " 'bloe',\n",
       " 'blood',\n",
       " 'blooded',\n",
       " 'bloody',\n",
       " 'blow',\n",
       " 'blowing',\n",
       " 'blowjob',\n",
       " 'blowup',\n",
       " 'blue',\n",
       " 'blueberry',\n",
       " 'bluer',\n",
       " 'blues',\n",
       " 'blunt',\n",
       " 'board',\n",
       " 'bob',\n",
       " 'bodies',\n",
       " 'body',\n",
       " 'boed',\n",
       " 'boght',\n",
       " 'boi',\n",
       " 'boing',\n",
       " 'boinked',\n",
       " 'bois',\n",
       " 'bomb',\n",
       " 'bone',\n",
       " 'boned',\n",
       " 'bones',\n",
       " 'bong',\n",
       " 'boning',\n",
       " 'bonus',\n",
       " 'boo',\n",
       " 'booboo',\n",
       " 'boobs',\n",
       " 'book',\n",
       " 'boom',\n",
       " 'boooooooooooglyyyyyy',\n",
       " 'boost',\n",
       " 'boot',\n",
       " 'bootay',\n",
       " 'booted',\n",
       " 'boots',\n",
       " 'booty',\n",
       " 'border',\n",
       " 'borderline',\n",
       " 'bored',\n",
       " 'boredom',\n",
       " 'boring',\n",
       " 'born',\n",
       " 'born-again',\n",
       " 'bosom',\n",
       " 'boss',\n",
       " 'bossy',\n",
       " 'bot',\n",
       " 'both',\n",
       " 'bother',\n",
       " 'bothering',\n",
       " 'bottle',\n",
       " 'bought',\n",
       " 'bounced',\n",
       " 'bouncer',\n",
       " 'bouncers',\n",
       " 'bound',\n",
       " 'bout',\n",
       " 'bouts',\n",
       " 'bow',\n",
       " 'bowl',\n",
       " 'box',\n",
       " 'boy',\n",
       " 'boyfriend',\n",
       " 'boys',\n",
       " 'bra',\n",
       " 'brad',\n",
       " 'brady',\n",
       " 'brain',\n",
       " 'brakes',\n",
       " 'brass',\n",
       " 'brat',\n",
       " 'brb',\n",
       " 'brbbb',\n",
       " 'bread',\n",
       " 'break',\n",
       " 'breaks',\n",
       " 'breath',\n",
       " 'breathe',\n",
       " 'bred',\n",
       " 'breeding',\n",
       " 'bright',\n",
       " 'brightened',\n",
       " 'bring',\n",
       " 'brings',\n",
       " 'bro',\n",
       " 'broke',\n",
       " 'brooklyn',\n",
       " 'brother',\n",
       " 'brothers',\n",
       " 'brought',\n",
       " 'brown',\n",
       " 'brrrrrrr',\n",
       " 'bruises',\n",
       " 'brunswick',\n",
       " 'brwn',\n",
       " 'btw',\n",
       " 'bucks',\n",
       " 'buddyyyyyy',\n",
       " 'buff',\n",
       " 'buffalo',\n",
       " 'bug',\n",
       " 'bugs',\n",
       " 'buh',\n",
       " 'build',\n",
       " 'builds',\n",
       " 'built',\n",
       " 'bull',\n",
       " 'bulls',\n",
       " 'bum',\n",
       " 'bumber',\n",
       " 'bummer',\n",
       " 'bumped',\n",
       " 'bumper',\n",
       " 'bunch',\n",
       " 'bunny',\n",
       " 'burger',\n",
       " 'burito',\n",
       " 'burned',\n",
       " 'burns',\n",
       " 'burp',\n",
       " 'burpin',\n",
       " 'burps',\n",
       " 'burried',\n",
       " 'burryed',\n",
       " 'bus',\n",
       " 'buses',\n",
       " 'bust',\n",
       " 'busted',\n",
       " 'busy',\n",
       " 'but',\n",
       " 'butt',\n",
       " 'butter',\n",
       " 'butterscotch',\n",
       " 'button',\n",
       " 'buttons',\n",
       " 'buy',\n",
       " 'buying',\n",
       " 'bwahahahahahahahahahaha',\n",
       " 'by',\n",
       " 'byb',\n",
       " 'bye',\n",
       " 'byeee',\n",
       " 'byeeee',\n",
       " 'byeeeeeeee',\n",
       " 'byeeeeeeeeeeeee',\n",
       " 'byes']"
      ]
     },
     "execution_count": 25,
     "metadata": {},
     "output_type": "execute_result"
    }
   ],
   "source": [
    "sorted(set([word for word in text5 if word.startswith('b')]))"
   ]
  },
  {
   "cell_type": "markdown",
   "metadata": {},
   "source": [
    "__Q16__"
   ]
  },
  {
   "cell_type": "code",
   "execution_count": 26,
   "metadata": {
    "ExecuteTime": {
     "end_time": "2020-10-13T22:00:29.983347Z",
     "start_time": "2020-10-13T22:00:29.969154Z"
    }
   },
   "outputs": [
    {
     "data": {
      "text/plain": [
       "[0, 1, 2, 3, 4, 5, 6, 7, 8, 9]"
      ]
     },
     "execution_count": 26,
     "metadata": {},
     "output_type": "execute_result"
    }
   ],
   "source": [
    "list(range(10))"
   ]
  },
  {
   "cell_type": "code",
   "execution_count": 27,
   "metadata": {
    "ExecuteTime": {
     "end_time": "2020-10-13T22:00:30.014055Z",
     "start_time": "2020-10-13T22:00:29.987589Z"
    }
   },
   "outputs": [
    {
     "data": {
      "text/plain": [
       "[10, 11, 12, 13, 14, 15, 16, 17, 18, 19]"
      ]
     },
     "execution_count": 27,
     "metadata": {},
     "output_type": "execute_result"
    }
   ],
   "source": [
    "list(range(10, 20))"
   ]
  },
  {
   "cell_type": "code",
   "execution_count": 28,
   "metadata": {
    "ExecuteTime": {
     "end_time": "2020-10-13T22:00:30.044427Z",
     "start_time": "2020-10-13T22:00:30.021807Z"
    }
   },
   "outputs": [
    {
     "data": {
      "text/plain": [
       "[10, 12, 14, 16, 18]"
      ]
     },
     "execution_count": 28,
     "metadata": {},
     "output_type": "execute_result"
    }
   ],
   "source": [
    "list(range(10, 20, 2))"
   ]
  },
  {
   "cell_type": "code",
   "execution_count": 29,
   "metadata": {
    "ExecuteTime": {
     "end_time": "2020-10-13T22:00:30.060329Z",
     "start_time": "2020-10-13T22:00:30.048425Z"
    }
   },
   "outputs": [
    {
     "data": {
      "text/plain": [
       "[20, 18, 16, 14, 12]"
      ]
     },
     "execution_count": 29,
     "metadata": {},
     "output_type": "execute_result"
    }
   ],
   "source": [
    "list(range(20, 10, -2))"
   ]
  },
  {
   "cell_type": "markdown",
   "metadata": {},
   "source": [
    "__Q17__"
   ]
  },
  {
   "cell_type": "code",
   "execution_count": 30,
   "metadata": {
    "ExecuteTime": {
     "end_time": "2020-10-13T22:00:30.090534Z",
     "start_time": "2020-10-13T22:00:30.063328Z"
    }
   },
   "outputs": [
    {
     "name": "stdout",
     "output_type": "stream",
     "text": [
      "629\n"
     ]
    }
   ],
   "source": [
    "print(text9.index('sunset'))"
   ]
  },
  {
   "cell_type": "code",
   "execution_count": 31,
   "metadata": {
    "ExecuteTime": {
     "end_time": "2020-10-13T22:00:30.106133Z",
     "start_time": "2020-10-13T22:00:30.094534Z"
    }
   },
   "outputs": [
    {
     "name": "stdout",
     "output_type": "stream",
     "text": [
      "['sunset', 'side', 'of', 'London', ',', 'as']\n"
     ]
    }
   ],
   "source": [
    "print(text9[629: 635])"
   ]
  },
  {
   "cell_type": "code",
   "execution_count": 32,
   "metadata": {
    "ExecuteTime": {
     "end_time": "2020-10-13T22:00:30.137526Z",
     "start_time": "2020-10-13T22:00:30.110133Z"
    }
   },
   "outputs": [
    {
     "name": "stdout",
     "output_type": "stream",
     "text": [
      "['sunset', 'side', 'of', 'London', ',', 'as', 'red', 'and', 'ragged', 'as', 'a', 'cloud', 'of', 'sunset', '.', 'It', 'was', 'built', 'of', 'a', 'bright']\n"
     ]
    }
   ],
   "source": [
    "print(text9[629:650])"
   ]
  },
  {
   "cell_type": "code",
   "execution_count": 33,
   "metadata": {
    "ExecuteTime": {
     "end_time": "2020-10-13T22:00:30.154388Z",
     "start_time": "2020-10-13T22:00:30.141525Z"
    }
   },
   "outputs": [
    {
     "name": "stdout",
     "output_type": "stream",
     "text": [
      "['PARK', 'THE', 'suburb', 'of', 'Saffron', 'Park', 'lay', 'on', 'the', 'sunset', 'side', 'of', 'London', ',', 'as', 'red', 'and', 'ragged', 'as', 'a', 'cloud', 'of', 'sunset', '.']\n"
     ]
    }
   ],
   "source": [
    "print(text9[620:644])"
   ]
  },
  {
   "cell_type": "code",
   "execution_count": 34,
   "metadata": {
    "ExecuteTime": {
     "end_time": "2020-10-13T22:00:30.184873Z",
     "start_time": "2020-10-13T22:00:30.158386Z"
    }
   },
   "outputs": [
    {
     "name": "stdout",
     "output_type": "stream",
     "text": [
      "['.', 'C', '.', 'CHAPTER', 'I', 'THE', 'TWO', 'POETS', 'OF', 'SAFFRON', 'PARK', 'THE', 'suburb', 'of', 'Saffron', 'Park', 'lay', 'on', 'the', 'sunset', 'side', 'of', 'London', ',', 'as', 'red', 'and', 'ragged', 'as', 'a', 'cloud', 'of', 'sunset', '.']\n"
     ]
    }
   ],
   "source": [
    "print(text9[610:644])"
   ]
  },
  {
   "cell_type": "code",
   "execution_count": 35,
   "metadata": {
    "ExecuteTime": {
     "end_time": "2020-10-13T22:00:30.201858Z",
     "start_time": "2020-10-13T22:00:30.189860Z"
    }
   },
   "outputs": [
    {
     "name": "stdout",
     "output_type": "stream",
     "text": [
      "['CHAPTER', 'I', 'THE', 'TWO', 'POETS', 'OF', 'SAFFRON', 'PARK', 'THE', 'suburb', 'of', 'Saffron', 'Park', 'lay', 'on', 'the', 'sunset', 'side', 'of', 'London', ',', 'as', 'red', 'and', 'ragged', 'as', 'a', 'cloud', 'of', 'sunset', '.']\n"
     ]
    }
   ],
   "source": [
    "print(text9[613:644])"
   ]
  },
  {
   "cell_type": "markdown",
   "metadata": {},
   "source": [
    "__Q18__"
   ]
  },
  {
   "cell_type": "code",
   "execution_count": 36,
   "metadata": {
    "ExecuteTime": {
     "end_time": "2020-10-13T22:00:30.232912Z",
     "start_time": "2020-10-13T22:00:30.204857Z"
    }
   },
   "outputs": [
    {
     "name": "stdout",
     "output_type": "stream",
     "text": [
      "['!', ',', '-', '.', '1', '25', '29', '61', ':', 'ARTHUR', 'Call', 'Citizens', 'Dashwood', 'Fellow', 'God', 'House', 'I', 'In', 'Ishmael', 'JOIN', 'KING', 'MALE', 'Nov.', 'PMing', 'Pierre', 'Representatives', 'SCENE', 'SEXY', 'Senate', 'Sussex', 'The', 'Vinken', 'Whoa', '[', ']', 'a', 'and', 'as', 'attrac', 'been', 'beginning', 'board', 'clop', 'created', 'director', 'discreet', 'earth', 'encounters', 'family', 'for', 'had', 'have', 'heaven', 'in', 'join', 'lady', 'lol', 'long', 'me', 'nonexecutive', 'of', 'old', 'older', 'people', 'problem', 'seeks', 'settled', 'single', 'the', 'there', 'to', 'will', 'wind', 'with', 'years']\n"
     ]
    }
   ],
   "source": [
    "all_vocabulary = sent1 + sent2 + sent3 + sent4 + sent5 + sent6 + sent7 + sent8\n",
    "all_vocabulary = set(all_vocabulary)\n",
    "print(sorted(all_vocabulary))"
   ]
  },
  {
   "cell_type": "markdown",
   "metadata": {},
   "source": [
    "__Q19__"
   ]
  },
  {
   "cell_type": "markdown",
   "metadata": {},
   "source": [
    "* `sorted(set([w.lower() for w in text1]))`\n",
    "* `sorted([w.lower() for w in set(text1)])`\n",
    "\n",
    "The second one will generate more words since it does not account for case-sensitive words."
   ]
  },
  {
   "cell_type": "markdown",
   "metadata": {},
   "source": [
    "__Q20__"
   ]
  },
  {
   "cell_type": "markdown",
   "metadata": {},
   "source": [
    "* `w.isupper()` $\\rightarrow$ tests if all characters are uppercase\n",
    "* `not w.islower()` $\\rightarrow$ tests the negation of if all characters are lower case.\n",
    "\n",
    "In the second test, it is possible to have a title-style so that it is not exactly opposite of the first test."
   ]
  },
  {
   "cell_type": "markdown",
   "metadata": {},
   "source": [
    "__Q21__"
   ]
  },
  {
   "cell_type": "code",
   "execution_count": 37,
   "metadata": {
    "ExecuteTime": {
     "end_time": "2020-10-13T22:00:30.263729Z",
     "start_time": "2020-10-13T22:00:30.237555Z"
    }
   },
   "outputs": [
    {
     "data": {
      "text/plain": [
       "['THE', 'END']"
      ]
     },
     "execution_count": 37,
     "metadata": {},
     "output_type": "execute_result"
    }
   ],
   "source": [
    "text2[-2:]"
   ]
  },
  {
   "cell_type": "markdown",
   "metadata": {},
   "source": [
    "__Q22__"
   ]
  },
  {
   "cell_type": "code",
   "execution_count": 38,
   "metadata": {
    "ExecuteTime": {
     "end_time": "2020-10-13T22:00:30.591625Z",
     "start_time": "2020-10-13T22:00:30.269866Z"
    },
    "scrolled": true
   },
   "outputs": [
    {
     "name": "stdout",
     "output_type": "stream",
     "text": [
      "JOIN, PART, that, what, here, ...., have, like, with, chat, your, good, just, lmao, know, room, from, this, well, back, hiya, they, dont, yeah, want, love, guys, some, been, talk, nice, time, when, haha, make, girl, need, U122, MODE, will, much, then, over, work, were, take, U121, U115, song, even, does, seen, U156, U105, more, damn, only, come, hell, long, them, name, tell, away, sure, look, baby, call, play, U110, U114, NICK, down, cool, sexy, many, hate, said, last, ever, hear, life, live, feel, very, mean, give, same, must, stop, LMAO, !!!!, hugs, What, find, cant, left, ????, shit, nite, busy, hair, lost, U104, fine, real, game, fuck, sits, eyes, lets, heya, kill, read, shut, wait, goes, keep, true, pick, free, else, near, nope, U168, hope, head, male, than, gets, cold, hehe, bout, stay, used, awww, told, This, U102, doin, kids, perv, wont, face, home, year, babe, into, yall, .. ., U119, U107, hard, show, U101, once, Well, help, mind, Yeah, week, Liam, U132, pics, such, type, best, neck, dang, dead, runs, aint, rock, days, mine, book, crap, soon, care, full, kiss, hour, nick, sick, ; .., hmmm, U139, word, heyy, case, wana, hows, went, lady, blue, says, suck, made, wife, sang, U144, fast, rule, dude, okay, alot, hand, took, wear, Hiya, kick, ahhh, dear, That, U108, U169, U129, U116, most, thru, U165, list, seem, sing, next, done, ride, comp, main, )))), goin, U520, pink, poor, gone, oops, knew, <---, ball, send, Song, blah, They, part, U103, U120, Last, whos, food, U142, sock, U197, legs, fire, warm, late, hang, miss, boys, land, nose, lick, caps, wish, U128, came, cali, roll, easy, lose, When, soul, luck, also, kool, fall, boss, beer, ohhh, ####, wall, Have, meet, till, feet, xbox, idea, heck, joke, fool, felt, yoko, meds, both, Lime, glad, U133, U126, jerk, ugly, date, ummm, quit, rest, door, none, self, pass, line, cute, holy, hook, Like, each, open, high, ouch, evil, fart, grrr, pain, pfft, sigh, shes, ROOM, ,,,,, lord, mmmm, ones, huge, woot, shot, team, ways, beat, kent, U130, U196, U219, turn, lame, U123, U154, U988, puff, U146, U989, U117, U819, U820, clap, itch, guyz, U136, gold, ring, isnt, U141, Only, U148, Your, deal, wash, U109, piff, jump, band, orgy, slap, soft, bend, toss, amen, rain, deop, roof, ((((, CHAT, ahem, hola, butt, imma, town, hawt, 2006, Elev, Wind, AKDT, lead, DING, note, gawd, half, mary, ello, hick, wine, hiii, bare, vote, Same, wack, snow, hurt, move, road, walk, yawn, hail, nana, U106, hump, elle, yada, tune, hank, slow, rubs, skin, died, U145, swim, U163, army, THAT, wazz, toes, U153, golf, drew, cast, Days, opps, U138, plan, Just, deaf, deep, phil, hmph, U155, Poor, Lies, bite, mins, eats, >:->, cell, cmon, wats, kind, mike, whoa, dumb, park, Sure, Come, O.k., mama, Nice, hold, ohio, whip, twin, burp, blew, temp, corn, pool, cash, ears, From, porn, heal, Dang, ciao, DOES, typo, Stop, eric, Drew, sore, Live, High, hits, KoOL, past, Love, meat, !!!., argh, limp, rent, cars, Tell, shop, U172, five, sell, <<<<, city, yard, grrl, chip, bear, foot, uses, DONT, sort, lies, whud, hott, Down, Lets, club, adds, Here, born, wOOt, area, ?!?!, Ohio, U112, humm, newp, gays, zone, hint, spin, ewww, pies, doll, drop, gimp, spot, ages, clue, mass, Ummm, Gosh, flow, kewl, hall, haze, 1996, John, john, sooo, cost, trip, babi, rich, U100, n9ne, Ahhh, ??!!, U111, moon, STOP, any1, yeas, wooo, <333, tick, tock, WITH, FROM, side, Heyy, howz, ex's, Cool, U170, U175, root, tyvm, luvs, fits, rofl, sand, ltns, flaw, aunt, lawl, Okay, HAVE, NONE, YOUR, Lmao, Tisk, U190, tisk, draw, docs, Slip, Fade, bowl, bong, ogan, cams, gooo, yeee, ahah, jeep, Deep, Show, Turn, Hand, VBox, ELSE, serg, bein, whys, tape, sexs, form, HUGE, nads, owww, gags, Meep, LAst, pm's, 1.99, lool, kina, sext, lazy, calm, arms, smax, VVil, este, chik, Boyz, coat, Eyes, Dawn, LIVE, mauh, ques, 4.20, gosh, ruff, mame, nada, push, prob, wild, whew, dark, waht, test, boot, hiom, HAHA, dman, jail, cops, hogs, peek, MORE, TIME, loud, o.k., Sexy, Ctrl, hots, Need, frst, 1200, crop, bomb, Pour, pour, Swim, Hard, eeek, tjhe, 10th, heee, peel, fock, Kold, exit, kold, 3:45, MRIs, buff, plus, tory, knee, OOPS, oooh, lala, fake, ssid, poot, poop, bird, plow, thnx, card, Hugs, Lord, uyes, benz, <~~~, disc, LONG, Been, Will, bloe, blow, hooo, thje, Jess, term, Tina, ooer, HALO, Awww, anal, Drop, dojn, wubs, mkay, spat, gees, hawT, yes., puts, fish, size, 39.3, 1980, 64.8, syck, tere, U542, sent, 45.5, 98.5, 1299, 1900, 1930, Werd, Rofl, mode, nawt, sign, woof, sum1, ghet, brad, offa, Dood, out., LOUD, sink, FINE, cums, loss, Life, Damn, wrap, hide, PM's, Talk, okey, worl, Hold, cepn, lots, Mary, nawp, addy, lake, slip, mite, wood, orta, wins, ebay, coem, giva, 1.98, ally, Judy, cyas, shup, tooo, pm'n, choc, wher, whoo, dint, tend, menu, lust, nods, NAME, kept, scuk, raed, Then, bugs, nerd, Hill, Evil, saME, 2Pac, Time, pimp, haaa, 98.6, it's, Mono, mono, Bone, Hero, Came, .op., Hott, Joey, Jane, span, wore, QUIT, pasa, barn, Kick, feat, Back, dork, laid, Home, herd, Born, Away, Tide, jush, Cute, GrlZ, lung, SOME, Lion, brat, :o *, MUAH, fawk, dust, Help, seth, Heya, bone, abou, tthe, Even, herE, Hail, halo, pork, 1cos, yw's, mark, dotn, PMSL, pmsl, gift, outs, Paul, outa, York, Care, Chat, fear, dies, givs, bust, xmas, enuf, LoVe, eeww, dick, fair, lyin, lois, cuss, LATE, THEY, GOOD, rape, geez, tart, hgey, caan, lol., Elle, nude, allo, yesh, wind, Reub, !???, heat, kmph, pope, yess, !..., duet, wuts, west, quiz, scar, Girl, pair, Rang, rang, bell, dawg, febe, Prof, Kewl, jude, Yoko, seee, whou, idnt, perk, http, 2DAY, yell, mang, SSRI, cure, wean, post, anti, noth, tall, pray, weed, icky, Rick, spit, lube, mami, east, 18ST, seat, cock, SExy, otay, firs, site, U113, dump, toop, four, U118, sets, asss, paid, Iowa, Teck, \"..., jeff, crib, drug, cook, 9:10, ladz, aime, hong, kong, Oops, tits, gret, guns, inch, sean, howl, Take, z-ro, U137, Haha, 1985, slam, pine, puke, waaa, urls, star, Save, teck, Room, sori, Long, poem, jack, Rule, CAPS, junk, tips, rush, Nooo, Troy, tail, Seee, 6:38, dyed, t he, beam, daft, twit, scum, U134, Type, WHOA, toke, ribs, Eggs, Wyte, moms, Over, West, Rock, goof, U143, able, vamp, Nope, Kent, ther, U147, TEXT, SIZE, gear, CALI, Matt, Rush, AWAY, NTMN, Kiss, U158, grea, Look, guts, wrek, Fort, 2:55, AKST, 4:03, wire, soda, gray, tlak, ltnc, ok'd, sayn, evah, bike, hill, ohwa, caca, prep, pull, dirt, vent, 100%, safe, dogs, bull, asks, Road, chit, grin, bred, rats, Sat., samn, Phil, nuff, rose, Ruth, grew, mena, ROFL, lapd, surf, City, hazy, thot, acid, wide, keys, salt, mess, base, byes, RN's, yout, numb, thah, mahn, King, TALK, GIRL, WHEN, HOTT, HERE, soup, 6:51, 9.53, Mine, vega, pigs, king, poof, Nova, mofo, Ohhh, Holy, sips, clay, None, Male, bacl, body, akon, yoll, boom, News, Maps, page, Tiff, Chop, DAMN, TYPR, poll, boed, Dude, Does, pwns, Very, Good, Food, sexi, bois, KNOW, GUYS, YALL, EVEN, SEEN, WILL, COME, FACE, JUST, Kids, 6:41, bied, 6:53, U149, 7:45, Uhhh, tenn, pure, U164, U150, U181, gals, woah, ussy, tiff, Heys, <3's, lisa, brwn, hurr, Were, "
     ]
    }
   ],
   "source": [
    "four_letters = [word for word in text5 if len(word) == 4]\n",
    "fdist = FreqDist(four_letters)\n",
    "for sample in fdist:\n",
    "    print(sample, end=', ')"
   ]
  },
  {
   "cell_type": "markdown",
   "metadata": {},
   "source": [
    "__Q24__"
   ]
  },
  {
   "cell_type": "code",
   "execution_count": 39,
   "metadata": {
    "ExecuteTime": {
     "end_time": "2020-10-13T22:00:30.623091Z",
     "start_time": "2020-10-13T22:00:30.596620Z"
    }
   },
   "outputs": [
    {
     "data": {
      "text/plain": [
       "[]"
      ]
     },
     "execution_count": 39,
     "metadata": {},
     "output_type": "execute_result"
    }
   ],
   "source": [
    "# ending with 'ize'\n",
    "[word for word in text6 if word.endswith('ize')]"
   ]
  },
  {
   "cell_type": "code",
   "execution_count": 40,
   "metadata": {
    "ExecuteTime": {
     "end_time": "2020-10-13T22:00:30.669973Z",
     "start_time": "2020-10-13T22:00:30.626090Z"
    }
   },
   "outputs": [
    {
     "data": {
      "text/plain": [
       "['zone',\n",
       " 'amazes',\n",
       " 'Fetchez',\n",
       " 'Fetchez',\n",
       " 'zoop',\n",
       " 'zoo',\n",
       " 'zhiv',\n",
       " 'frozen',\n",
       " 'zoosh']"
      ]
     },
     "execution_count": 40,
     "metadata": {},
     "output_type": "execute_result"
    }
   ],
   "source": [
    "# containing letter 'z'\n",
    "[word for word in text6 if 'z' in word]"
   ]
  },
  {
   "cell_type": "code",
   "execution_count": 41,
   "metadata": {
    "ExecuteTime": {
     "end_time": "2020-10-13T22:00:30.717492Z",
     "start_time": "2020-10-13T22:00:30.677972Z"
    }
   },
   "outputs": [
    {
     "data": {
      "text/plain": [
       "['empty',\n",
       " 'aptly',\n",
       " 'Thpppppt',\n",
       " 'Thppt',\n",
       " 'Thppt',\n",
       " 'empty',\n",
       " 'Thppppt',\n",
       " 'temptress',\n",
       " 'temptation',\n",
       " 'ptoo',\n",
       " 'Chapter',\n",
       " 'excepting',\n",
       " 'Thpppt']"
      ]
     },
     "execution_count": 41,
     "metadata": {},
     "output_type": "execute_result"
    }
   ],
   "source": [
    "# containing the sequence 'pt'\n",
    "[word for word in text6 if 'pt' in word]"
   ]
  },
  {
   "cell_type": "code",
   "execution_count": 42,
   "metadata": {
    "ExecuteTime": {
     "end_time": "2020-10-13T22:00:30.749915Z",
     "start_time": "2020-10-13T22:00:30.726093Z"
    },
    "scrolled": false
   },
   "outputs": [
    {
     "name": "stdout",
     "output_type": "stream",
     "text": [
      "['Whoa', 'Halt', 'Who', 'It', 'I', 'Arthur', 'Uther', 'Pendragon', 'Camelot', 'King', 'Britons', 'Saxons', 'England', 'Pull', 'I', 'Patsy', 'We', 'Camelot', 'I', 'What', 'Ridden', 'Yes', 'You', 'What', 'You', 'So', 'We', 'Mercea', 'Where', 'We', 'Found', 'In', 'Mercea', 'The', 'What', 'Well', 'The', 'Are', 'Not', 'They', 'What', 'A', 'It', 'It', 'It', 'A', 'Well', 'Will', 'Arthur', 'Court', 'Camelot', 'Listen', 'In', 'Please', 'Am', 'I', 'I', 'It', 'African', 'Oh', 'African', 'European', 'That', 'Oh', 'I', 'Will', 'Camelot', 'But', 'African', 'Oh', 'So', 'Wait', 'Supposing', 'No', 'Well', 'They', 'What', 'Well', 'Bring', 'Bring', 'Bring', 'Bring', 'Bring', 'Bring', 'Bring', 'Bring', 'Ninepence', 'Bring', 'Bring', 'Bring', 'Bring', 'Here', 'Ninepence', 'I', 'What', 'Nothing', 'Here', 'I', 'Ere', 'He', 'Yes', 'I', 'He', 'Well', 'He', 'I', 'No', 'You', 'Oh', 'I', 'It', 'I', 'Oh', 'I', 'I', 'Well', 'I', 'Well', 'He', 'No', 'I', 'Robinson', 'They', 'Well', 'Thursday', 'I', 'I', 'You', 'Look', 'I', 'I', 'Ah', 'Not', 'See', 'Thursday', 'Right', 'All', 'Who', 'I', 'Must', 'Why', 'He', 'King', 'Arthur', 'King', 'Arthur', 'Old', 'Man', 'Man', 'Sorry', 'What', 'I', 'I', 'I', 'I', 'Well', 'I', 'Man', 'Well', 'Dennis', 'Well', 'I', 'Dennis', 'Well', 'I', 'What', 'I', 'Well', 'I', 'Oh', 'And', 'By', 'By', 'If', 'Dennis', 'Oh', 'How', 'How', 'I', 'Arthur', 'King', 'Britons', 'Who', 'King', 'The', 'Britons', 'Who', 'Britons', 'Well', 'We', 'Britons', 'I', 'I', 'I', 'You', 'We', 'A', 'Oh', 'That', 'If', 'Please', 'I', 'Who', 'No', 'Then', 'We', 'What', 'I', 'We', 'We', 'Yes', 'But', 'Yes', 'I', 'By', 'Be', 'But', 'Be', 'I', 'Order', 'Who', 'Heh', 'I', 'Well', 'I', 'You', 'Well', 'The', 'Lady', 'Lake', 'Excalibur', 'Divine', 'Providence', 'I', 'Arthur', 'Excalibur', 'That', 'I', 'Listen', 'Supreme', 'Be', 'Well', 'Shut', 'I', 'I', 'I', 'Shut', 'Shut', 'Ah', 'Shut', 'Oh', 'Come', 'Help', 'I', 'Bloody', 'Oh', 'Did', 'Did', 'That', 'I', 'Did', 'You', 'King', 'Arthur', 'Aaagh', 'King', 'Arthur', 'Aaagh', 'Ooh', 'King', 'Arthur', 'Aagh', 'Oh', 'King', 'Arthur', 'Ooh', 'Aaagh', 'Agh', 'Aaaaaah', 'Aaaaaaaaah', 'Umm', 'You', 'Sir', 'Knight', 'I', 'Arthur', 'King', 'Britons', 'I', 'Camelot', 'You', 'Will', 'You', 'So', 'Come', 'Patsy', 'None', 'What', 'None', 'I', 'Sir', 'Knight', 'I', 'Then', 'I', 'King', 'Britons', 'I', 'So', 'Aaah', 'Now', 'Tis', 'A', 'Your', 'No', 'Well', 'I', 'You', 'Come', 'Huyah', 'Hiyaah', 'Aaaaaaaah', 'Victory', 'We', 'Thee', 'Lord', 'Thy', 'Hah', 'Come', 'What', 'Have', 'Eh', 'You', 'Sir', 'Knight', 'Oh', 'Look', 'You', 'Yes', 'I', 'Look', 'Just', 'Look', 'Chicken', 'Chickennn', 'Look', 'I', 'Right', 'Right', 'I', 'You', 'Come', 'What', 'I', 'You', 'The', 'Black', 'Knight', 'Have', 'Come', 'Ooh', 'All', 'Come', 'Patsy', 'Oh', 'Oh', 'I', 'Running', 'You', 'Come', 'I', 'Pie', 'Iesu', 'Pie', 'Iesu', 'Pie', 'Iesu', 'A', 'A', 'A', 'A', 'Pie', 'Iesu', 'A', 'A', 'A', 'A', 'We', 'A', 'A', 'A', 'A', 'We', 'A', 'A', 'Burn', 'Burn', 'Burn', 'We', 'We', 'A', 'A', 'A', 'We', 'May', 'Burn', 'Burn', 'Burn', 'Burn', 'How', 'She', 'Right', 'Yeah', 'Yeah', 'Bring', 'I', 'I', 'Uh', 'They', 'Augh', 'We', 'And', 'It', 'Well', 'Well', 'The', 'And', 'Yeah', 'We', 'Right', 'Yeaaah', 'Yeaah', 'Did', 'No', 'No', 'No', 'No', 'No', 'No', 'Yes', 'Yes', 'Yes', 'Yeah', 'A', 'A', 'A', 'She', 'What', 'Well', 'A', 'I', 'Burn', 'Burn', 'Burn', 'Burn', 'Burn', 'Quiet', 'Quiet', 'Quiet', 'Quiet', 'There', 'Are', 'Ah', 'What', 'Tell', 'Tell', 'Tell', 'Burn', 'Burn', 'Burn', 'Burn', 'Burn', 'And', 'More', 'Shh', 'Wood', 'So', 'B', 'Good', 'Heh', 'Oh', 'Oh', 'So', 'Build', 'Ah', 'Oh', 'Oh', 'True', 'Uhh', 'Does', 'No', 'No', 'No', 'It', 'Throw', 'The', 'Throw', 'What', 'Bread', 'Apples', 'Uh', 'Cider', 'Uh', 'Cherries', 'Mud', 'Churches', 'Churches', 'Lead', 'Lead', 'A', 'Oooh', 'Exactly', 'So', 'If', 'And', 'A', 'A', 'A', 'A', 'Here', 'Use', 'We', 'Ohh', 'Ohh', 'Burn', 'Burn', 'Burn', 'Burn', 'Burn', 'Burn', 'Burn', 'Burn', 'Burn', 'Ahh', 'Ahh', 'Right', 'Remove', 'A', 'A', 'A', 'It', 'Burn', 'Burn', 'Burn', 'Burn', 'Burn', 'Burn', 'Who', 'I', 'Arthur', 'King', 'Britons', 'My', 'Good', 'Sir', 'Knight', 'Camelot', 'Round', 'Table', 'My', 'I', 'What', 'Bedevere', 'Then', 'I', 'Sir', 'Bedevere', 'Knight', 'Round', 'Table', 'The', 'Sir', 'Bedevere', 'King', 'Arthur', 'Sir', 'Lancelot', 'Brave', 'Sir', 'Gallahad', 'Pure', 'Sir', 'Robin', 'Sir', 'Lancelot', 'Dragon', 'Angnor', 'Chicken', 'Bristol', 'Battle', 'Badon', 'Hill', 'Sir', 'Not', 'Together', 'Knights', 'Round', 'Table', 'And', 'This', 'Sir', 'Bedevere', 'Explain', 'Oh', 'Look', 'Camelot', 'Camelot', 'Camelot', 'It', 'Shh', 'Knights', 'I', 'Let', 'Camelot', 'We', 'We', 'We', 'With', 'We', 'Camelot', 'We', 'We', 'Round', 'Table', 'Our', 'But', 'That', 'We', 'Camelot', 'We', 'In', 'Quite', 'Between', 'Clark', 'Gable', 'It', 'Camelot', 'I', 'Well', 'Camelot', 'It', 'Right', 'Right', 'Arthur', 'Arthur', 'King', 'Britons', 'Oh', 'One', 'I', 'Sorry', 'And', 'Every', 'I', 'I', 'What', 'I', 'O', 'Lord', 'Well', 'It', 'Psalms', 'Now', 'Yes', 'Lord', 'Right', 'Arthur', 'King', 'Britons', 'Knights', 'Round', 'Table', 'Good', 'O', 'Lord', 'Course', 'Behold', 'Arthur', 'Holy', 'Grail', 'Look', 'Arthur', 'That', 'Arthur', 'Holy', 'Grail', 'A', 'A', 'Lord', 'God', 'King', 'Arthur', 'Halt', 'Hallo', 'Hallo', 'Allo', 'Who', 'It', 'King', 'Arthur', 'Knights', 'Round', 'Table', 'Who', 'This', 'Guy', 'Loimbard', 'Go', 'God', 'If', 'Holy', 'Grail', 'Well', 'I', 'I', 'Uh', 'What', 'He', 'Are', 'Oh', 'I', 'Well', 'Of', 'You', 'English', 'Well', 'I', 'French', 'Why', 'I', 'What', 'England', 'Mind', 'If', 'Grail', 'You', 'English', 'Go', 'I', 'Arthur', 'King', 'English', 'Thpppppt', 'Thppt', 'Thppt', 'What', 'Now', 'I', 'I', 'You', 'Is', 'No', 'I', 'Now', 'I', 'Fetchez', 'Quoi', 'Fetchez', 'If', 'I', 'Jesus', 'Christ', 'Christ', 'Ah', 'Ohh', 'Right', 'Charge', 'Charge', 'Hey', 'There', 'And', 'Run', 'Run', 'Thppppt', 'Fiends', 'I', 'No', 'No', 'Sir', 'I', 'C', 'Quoi', 'Un', 'What', 'A', 'Oh', 'Oui', 'Hurry', 'What', 'Let', 'Oh', 'On', 'Bon', 'Over', 'What', 'Well', 'Launcelot', 'Galahad', 'I', 'French', 'Not', 'Who', 'U', 'Launcelot', 'Galahad', 'I', 'Uh', 'Ohh', 'Oh', 'Um', 'Run', 'Run', 'Run', 'Run', 'Run', 'Run', 'Run', 'Run', 'Oh', 'Haw', 'Haw', 'Picture', 'Schools', 'Action', 'Defeat', 'King', 'Arthur', 'The', 'French', 'Arthur', 'Holy', 'Grail', 'Arthur', 'Grail', 'Now', 'Launcelot', 'Aaaah', 'S', 'Frank', 'The', 'Tale', 'Sir', 'Robin', 'So', 'Sir', 'Robin', 'Ewing', 'Bravely', 'Sir', 'Robin', 'Camelot', 'He', 'O', 'Sir', 'Robin', 'He', 'Brave', 'Sir', 'Robin', 'He', 'Or', 'To', 'And', 'Sir', 'Robin', 'His', 'And', 'And', 'And', 'That', 'Heh', 'Looks', 'Anarcho', 'Oh', 'Dennis', 'We', 'Halt', 'Who', 'He', 'Sir', 'Robin', 'Sir', 'Robin', 'Shut', 'Um', 'I', 'What', 'To', 'Shut', 'Um', 'I', 'Sir', 'Knight', 'I', 'Ah', 'W', 'I', 'I', 'Knight', 'Round', 'Table', 'You', 'Knight', 'Round', 'Table', 'I', 'In', 'I', 'Shall', 'I', 'Oh', 'I', 'Well', 'I', 'I', 'Oh', 'Oh', 'Perhaps', 'I', 'And', 'Oh', 'Get', 'I', 'Oh', 'Yes', 'What', 'Yapping', 'You', 'You', 'What', 'You', 'Oh', 'I', 'Anyway', 'Well', 'Oh', 'Oh', 'All', 'All', 'We', 'Yes', 'Oh', 'All', 'All', 'Right', 'He', 'So', 'He', 'Brave', 'Sir', 'Robin', 'No', 'Bravely', 'I', 'When', 'No', 'Yes', 'Sir', 'Robin', 'I', 'And', 'I', 'He', 'All', 'Bravest', 'Sir', 'Robin', 'I', 'Pie', 'Iesu', 'Heh', 'Pie', 'Iesu', 'Wayy', 'Ho', 'Woa', 'Heh', 'Heh', 'Wayy', 'Wayy', 'Forgive', 'Oh', 'Oooo', 'The', 'Tale', 'Sir', 'Galahad', 'Open', 'Open', 'In', 'King', 'Arthur', 'Hello', 'Welcome', 'Sir', 'Knight', 'Welcome', 'Castle', 'Anthrax', 'The', 'Castle', 'Anthrax', 'Yes', 'Oh', 'Oh', 'You', 'Holy', 'Grail', 'The', 'The', 'Grail', 'It', 'Oh', 'Midget', 'Crapper', 'Yes', 'O', 'Zoot', 'Prepare', 'Oh', 'Thank', 'Thank', 'Thank', 'Thank', 'Thank', 'Away', 'The', 'Well', 'I', 'I', 'What', 'Sir', 'Galahad', 'Chaste', 'Mine', 'Zoot', 'Just', 'Zoot', 'Oh', 'Look', 'In', 'God', 'Grail', 'Oh', 'You', 'No', 'I', 'It', 'Sir', 'Galahad', 'You', 'Well', 'I', 'I', 'Oh', 'I', 'We', 'Oooh', 'It', 'We', 'Nay', 'Nay', 'Come', 'Come', 'You', 'Oh', 'No', 'Oh', 'No', 'Lie', 'Well', 'They', 'Uh', 'B', 'Oh', 'You', 'Doctor', 'Piglet', 'Doctor', 'Winston', 'Practice', 'Try', 'Are', 'We', 'There', 'Please', 'We', 'Look', 'This', 'I', 'Back', 'At', 'Torment', 'I', 'Grail', 'There', 'I', 'I', 'I', 'Hello', 'Oh', 'Hello', 'Hello', 'Hello', 'Hello', 'Hello', 'Hello', 'Hello', 'Hello', 'Hello', 'Hello', 'Hello', 'Hello', 'Hello', 'Hello', 'Hello', 'Hello', 'Hello', 'Hello', 'Hello', 'Hello', 'Hello', 'Hello', 'Hello', 'Zoot', 'No', 'I', 'Zoot', 'Dingo', 'Oh', 'I', 'Where', 'I', 'Grail', 'I', 'Oh', 'Oh', 'Bad', 'Zoot', 'Well', 'Oh', 'Zoot', 'She', 'I', 'It', 'It', 'Grail', 'Oh', 'Zoot', 'She', 'Do', 'We', 'It', 'I', 'At', 'Well', 'It', 'Get', 'Yes', 'Yes', 'Oh', 'I', 'Get', 'Oh', 'Zoot', 'Oh', 'And', 'Castle', 'Anthrax', 'You', 'A', 'A', 'You', 'And', 'And', 'And', 'And', 'And', 'Yes', 'A', 'A', 'There', 'And', 'The', 'The', 'Well', 'I', 'Sir', 'Galahad', 'Oh', 'Quick', 'What', 'Quick', 'Why', 'You', 'No', 'Silence', 'You', 'Come', 'We', 'Look', 'I', 'Come', 'Sir', 'Galahad', 'No', 'Look', 'I', 'Yes', 'Let', 'Yes', 'Let', 'No', 'Sir', 'Galahad', 'Come', 'No', 'Really', 'Honestly', 'I', 'I', 'Oh', 'Let', 'Yes', 'Let', 'No', 'Quick', 'Quick', 'Please', 'I', 'There', 'Yes', 'He', 'We', 'We', 'He', 'Oh', 'We', 'You', 'I', 'I', 'Yes', 'You', 'Look', 'No', 'Look', 'I', 'No', 'Holy', 'Grail', 'Come', 'Oh', 'No', 'It', 'I', 'No', 'I', 'Sir', 'Launcelot', 'Sir', 'Galahad', 'Grail', 'Meanwhile', 'King', 'Arthur', 'Sir', 'Bedevere', 'Oh', 'I', 'I', 'Get', 'Oh', 'On', 'Arthur', 'I', 'Heh', 'Hee', 'And', 'Grail', 'Ha', 'Heh', 'Ha', 'Ha', 'Where', 'Heh', 'Old', 'Hee', 'He', 'And', 'Grail', 'The', 'Grail', 'There', 'Gorge', 'Eternal', 'Peril', 'But', 'Grail', 'Where', 'Grail', 'Seek', 'Bridge', 'Death', 'The', 'Bridge', 'Death', 'Grail', 'Heh', 'Ha', 'Hee', 'Ni', 'Ni', 'Ni', 'Ni', 'Ni', 'Ni', 'Who', 'We', 'Knights', 'Who', 'Say', 'Ni', 'Ni', 'No', 'Not', 'Knights', 'Who', 'Say', 'Ni', 'The', 'Who', 'We', 'Ni', 'Peng', 'Neee', 'Neee', 'Those', 'The', 'Knights', 'Who', 'Say', 'Ni', 'Knights', 'Ni', 'Ni', 'Ni', 'Ni', 'Ni', 'Ni', 'Ni', 'Ow', 'Ow', 'Ow', 'Agh', 'We', 'Well', 'We', 'A', 'Ni', 'Ni', 'Ni', 'Ni', 'Ow', 'Oh', 'Please', 'No', 'We', 'You', 'O', 'Knights', 'Ni', 'One', 'Of', 'And', 'Yes', 'Now', 'Hmm', 'Oh', 'Great', 'Hm', 'Hmm', 'Hm', 'Hmm', 'Ohh', 'Ay', 'Thsss', 'Ayy', 'Thsss', 'Ayy', 'Stop', 'Stop', 'Ay', 'Stop', 'Look', 'Clear', 'Go', 'Go', 'Go', 'Go', 'And', 'Clear', 'Hah', 'Bloody', 'The', 'Tale', 'Sir', 'Launcelot', 'One', 'What', 'No', 'Not', 'All', 'This', 'But', 'Mother', 'Father', 'Father', 'B', 'Father', 'I', 'Listen', 'I', 'When', 'I', 'Other', 'I', 'I', 'It', 'So', 'I', 'That', 'So', 'I', 'That', 'But', 'And', 'But', 'I', 'I', 'Rather', 'I', 'Stop', 'Stop', 'You', 'I', 'Now', 'In', 'Britain', 'B', 'I', 'Listen', 'Alice', 'Herbert', 'Erbert', 'We', 'We', 'But', 'I', 'Don', 'What', 'She', 'She', 'She', 'I', 'I', 'I', 'Cut', 'Cut', 'Look', 'Princess', 'Lucky', 'Guards', 'Make', 'Prince', 'I', 'Not', 'Hic', 'No', 'Until', 'I', 'Until', 'No', 'No', 'You', 'And', 'Hic', 'Right', 'We', 'No', 'Leaving', 'Leaving', 'Yes', 'All', 'Right', 'Hic', 'Right', 'Oh', 'Yes', 'What', 'Oh', 'Look', 'Uh', 'You', 'Alright', 'Hic', 'Right', 'Oh', 'I', 'Uhh', 'N', 'No', 'You', 'Oh', 'We', 'But', 'No', 'Just', 'Until', 'No', 'Just', 'Just', 'Hic', 'Get', 'Get', 'All', 'Right', 'We', 'Hic', 'And', 'What', 'Make', 'The', 'Prince', 'Yes', 'Make', 'Oh', 'Hic', 'Ah', 'I', 'You', 'Is', 'Hic', 'Oh', 'No', 'Right', 'Where', 'We', 'No', 'I', 'Oh', 'I', 'Right', 'But', 'Father', 'Shut', 'And', 'And', 'Hic', 'Oh', 'Well', 'Concorde', 'Thank', 'Most', 'And', 'Over', 'Good', 'Steady', 'And', 'Uuh', 'Come', 'Concorde', 'Message', 'Concorde', 'Concorde', 'Speak', 'To', 'I', 'Please', 'I', 'Tall', 'Tower', 'Swamp', 'Castle', 'At', 'A', 'A', 'This', 'Holy', 'Grail', 'Brave', 'Concorde', 'Uh', 'I', 'I', 'Well', 'I', 'I', 'I', 'I', 'I', 'Oh', 'I', 'Actually', 'I', 'I', 'No', 'Concorde', 'Stay', 'I', 'I', 'Idiom', 'Idiom', 'No', 'I', 'Farewell', 'Concorde', 'I', 'I', 'Shall', 'I', 'Yeah', 'Morning', 'Morning', 'Oooh', 'Ha', 'Hiyya', 'Hey', 'Hiyya', 'Ha', 'Ha', 'Huy', 'Uuh', 'Aaah', 'Ha', 'And', 'Aah', 'Hiyah', 'Aah', 'Aaah', 'Hyy', 'Hya', 'Hiyya', 'Ha', 'Now', 'O', 'Sir', 'Launcelot', 'Camelot', 'I', 'Oh', 'I', 'You', 'Uh', 'I', 'I', 'You', 'Uh', 'You', 'I', 'I', 'I', 'Well', 'I', 'Stop', 'Stop', 'Stop', 'Stop', 'Who', 'I', 'No', 'Uh', 'I', 'Sir', 'Launcelot', 'He', 'Father', 'Well', 'Did', 'Uh', 'Oh', 'Sorry', 'They', 'Well', 'I', 'Um', 'I', 'Don', 'Sir', 'Launcelot', 'I', 'You', 'Well', 'I', 'I', 'Hurry', 'Sir', 'Launcelot', 'Hurry', 'Shut', 'You', 'Well', 'I', 'Didn', 'You', 'Oh', 'Is', 'You', 'This', 'Well', 'I', 'I', 'Camelot', 'I', 'Camelot', 'Are', 'Camelot', 'Hurry', 'Sir', 'Launcelot', 'Uh', 'I', 'Knight', 'King', 'Arthur', 'Very', 'Camelot', 'Uh', 'Is', 'Hurry', 'I', 'Would', 'Well', 'I', 'I', 'Um', 'Oooh', 'I', 'I', 'I', 'Oh', 'Oooh', 'Well', 'We', 'There', 'Oh', 'Ha', 'Hey', 'Ha', 'Hold', 'Stop', 'Hold', 'Hold', 'Hold', 'Hold', 'Hold', 'Please', 'Sorry', 'Sorry', 'You', 'I', 'I', 'I', 'Sorry', 'Sorry', 'He', 'Hold', 'Hold', 'Please', 'Hold', 'This', 'Sir', 'Launcelot', 'Court', 'Camelot', 'Hello', 'He', 'Please', 'Please', 'This', 'Let', 'We', 'Unfortunately', 'Herbert', 'Oh', 'Oh', 'But', 'I', 'I', 'For', 'He', 'Since', 'He', 'For', 'S', 'Uugh', 'Oh', 'And', 'I', 'And', 'I', 'Princess', 'Sir', 'Launcelot', 'Camelot', 'What', 'Look', 'The', 'Prince', 'Oooh', 'The', 'Prince', 'He', 'No', 'I', 'You', 'Tall', 'Tower', 'No', 'I', 'How', 'Well', 'I', 'Not', 'Not', 'No', 'Stop', 'He', 'He', 'Shut', 'He', 'Shut', 'He', 'Shut', 'He', 'Not', 'He', 'He', 'He', 'He', 'Quickly', 'He', 'Come', 'He', 'He', 'No', 'It', 'He', 'I', 'Oh', 'Dramatically', 'Dramatically', 'But', 'Heee', 'Hoa', 'Hoo', 'What', 'Excuse', 'Could', 'King', 'Arthur', 'Old', 'Is', 'Who', 'The', 'Knights', 'Who', 'Say', 'Ni', 'Aggh', 'No', 'Never', 'We', 'If', 'I', 'Agh', 'Do', 'Very', 'If', 'No', 'Never', 'No', 'Ni', 'Nu', 'No', 'Nu', 'No', 'Nu', 'No', 'You', 'No', 'Ni', 'Ni', 'That', 'That', 'You', 'Ni', 'Ohh', 'Ni', 'Ni', 'Agh', 'Ni', 'Ni', 'Ni', 'Ni', 'Ni', 'Are', 'Erm', 'Oh', 'There', 'Nothing', 'Even', 'Did', 'Yes', 'Shrubberies', 'I', 'My', 'Roger', 'Shrubber', 'I', 'Ni', 'No', 'No', 'No', 'O', 'Knights', 'Ni', 'May', 'It', 'I', 'But', 'What', 'We', 'Knights', 'Who', 'Say', 'Ni', 'Ni', 'Shh', 'Shh', 'We', 'Knights', 'Who', 'Say', 'Ecky', 'Ni', 'Therefore', 'What', 'O', 'Knights', 'Knights', 'Who', 'Til', 'Recently', 'Said', 'Ni', 'Firstly', 'Not', 'Ni', 'Then', 'A', 'A', 'A', 'Ni', 'Shh', 'Ni', 'Ni', 'Ni', 'Shh', 'Shh', 'Then', 'We', 'Oh', 'Cut', 'It', 'Aaaugh', 'Aaaugh', 'Augh', 'Ohh', 'Don', 'What', 'I', 'Knights', 'Ni', 'How', 'Aaaaugh', 'You', 'What', 'Agh', 'No', 'No', 'You', 'No', 'Not', 'My', 'Sir', 'Robin', 'Packing', 'And', 'And', 'Yes', 'Sir', 'Robin', 'My', 'It', 'Now', 'Surely', 'Holy', 'Grail', 'He', 'Shut', 'No', 'No', 'Far', 'He', 'Aaaaugh', 'I', 'Aaaaugh', 'Uh', 'No', 'Aaaaugh', 'Aaaaugh', 'Stop', 'The', 'Oh', 'Ow', 'He', 'Patsy', 'Wait', 'I', 'I', 'Ooh', 'I', 'And', 'That', 'Ohh', 'Aaaaugh', 'And', 'Arthur', 'Bedevere', 'Sir', 'Robin', 'Beyond', 'Launcelot', 'Galahad', 'Yay', 'Yay', 'In', 'Nador', 'Robin', 'Get', 'Eee', 'And', 'Yay', 'A', 'Winter', 'Spring', 'Mmm', 'Spring', 'Summer', 'Oh', 'Ahh', 'Summer', 'Winter', 'Oh', 'And', 'Winter', 'Spring', 'Summer', 'Autumn', 'Aah', 'Oh', 'Waa', 'Until', 'King', 'Arthur', 'Eh', 'Oh', 'See', 'Oh', 'Oh', 'Knights', 'Forward', 'What', 'I', 'By', 'There', 'Tim', 'Greetings', 'Tim', 'Enchanter', 'Greetings', 'King', 'Arthur', 'You', 'I', 'You', 'Holy', 'Grail', 'That', 'You', 'O', 'Tim', 'Quite', 'Oh', 'Yes', 'Holy', 'Grail', 'Our', 'Holy', 'Grail', 'Yeah', 'Yes', 'It', 'It', 'Yeah', 'Yup', 'Yup', 'Hm', 'And', 'Yes', 'Yeah', 'We', 'We', 'We', 'Ages', 'Umhm', 'Uh', 'Look', 'Fine', 'Um', 'I', 'I', 'A', 'A', 'A', 'Yes', 'I', 'Y', 'Yes', 'Yup', 'That', 'Yes', 'Oh', 'Oh', 'Thank', 'Ahh', 'Oh', 'Fine', 'Thank', 'Splendid', 'Aah', 'Look', 'Yes', 'I', 'Holy', 'Grail', 'Oh', 'Oh', 'To', 'Caerbannog', 'Olfin', 'Bedwere', 'Rheged', 'Holy', 'Grail', 'Where', 'O', 'Tim', 'Follow', 'But', 'Follow', 'Bones', 'So', 'What', 'They', 'Then', 'Dis', 'Behold', 'Caerbannog', 'Right', 'Keep', 'What', 'W', 'Too', 'What', 'There', 'Where', 'There', 'What', 'It', 'You', 'What', 'You', 'Well', 'Ohh', 'That', 'You', 'I', 'I', 'Look', 'Get', 'He', 'Oh', 'You', 'I', 'What', 'He', 'Go', 'Bors', 'Chop', 'Right', 'Silly', 'One', 'Look', 'Aaaugh', 'Jesus', 'Christ', 'I', 'I', 'I', 'Oh', 'Oh', 'Well', 'I', 'Oh', 'Do', 'Right', 'Oh', 'Charge', 'Aaaaugh', 'Aaaugh', 'Run', 'Run', 'Run', 'Run', 'Ha', 'Ha', 'Ha', 'Ha', 'Right', 'How', 'Gawain', 'Ector', 'And', 'Bors', 'That', 'Three', 'Three', 'Three', 'And', 'That', 'Would', 'Oh', 'Let', 'It', 'Like', 'Well', 'Have', 'No', 'We', 'Holy', 'Hand', 'Grenade', 'Yes', 'The', 'Holy', 'Hand', 'Grenade', 'Antioch', 'Tis', 'Brother', 'Maynard', 'Brother', 'Maynard', 'Bring', 'Holy', 'Hand', 'Grenade', 'Pie', 'Iesu', 'Pie', 'Iesu', 'Pie', 'Iesu', 'Pie', 'Iesu', 'How', 'I', 'Consult', 'Book', 'Armaments', 'Armaments', 'Chapter', 'Two', 'Nine', 'Twenty', 'And', 'Saint', 'Attila', 'O', 'Lord', 'And', 'Lord', 'Skip', 'Brother', 'And', 'Lord', 'First', 'Holy', 'Pin', 'Then', 'Three', 'Four', 'Five', 'Once', 'Holy', 'Hand', 'Grenade', 'Antioch', 'Amen', 'Amen', 'Right', 'One', 'Three', 'Three', 'There', 'Look', 'What', 'What', 'Brother', 'Maynard', 'You', 'It', 'Aramaic', 'Of', 'Joseph', 'Arimathea', 'Course', 'What', 'It', 'Here', 'Joseph', 'Arimathea', 'He', 'Holy', 'Grail', 'Castle', 'What', 'Castle', 'What', 'He', 'Oh', 'Well', 'Look', 'He', 'Well', 'Perhaps', 'Oh', 'Well', 'No', 'Just', 'Aauuggghhh', 'Aaauggh', 'Do', 'Camaaaaaargue', 'Where', 'France', 'I', 'Isn', 'Saint', 'Aauuuves', 'Cornwall', 'No', 'Saint', 'Ives', 'Oh', 'Saint', 'Iiiives', 'Iiiiives', 'Oooohoohohooo', 'No', 'Aauuuuugh', 'Aauuugh', 'N', 'No', 'Oooooooh', 'Oh', 'Yes', 'I', 'Oooh', 'My', 'God', 'It', 'Black', 'Beast', 'Aaauugh', 'Black', 'Beast', 'Aaauugh', 'That', 'That', 'Run', 'Run', 'Run', 'Run', 'Run', 'Keep', 'Shh', 'Shh', 'Shh', 'Shh', 'Shh', 'Shh', 'Shh', 'Shh', 'We', 'Aagh', 'As', 'Black', 'Beast', 'Arthur', 'Ulk', 'The', 'The', 'Holy', 'Grail', 'There', 'The', 'Bridge', 'Death', 'Oh', 'Look', 'There', 'What', 'He', 'Bridge', 'Death', 'He', 'Three', 'Three', 'He', 'Three', 'Three', 'What', 'Then', 'Gorge', 'Eternal', 'Peril', 'Oh', 'I', 'Who', 'Sir', 'Robin', 'Yes', 'Brave', 'Sir', 'Robin', 'Hey', 'I', 'Why', 'Launcelot', 'Yes', 'Let', 'I', 'I', 'No', 'No', 'Hang', 'Hang', 'Hang', 'Just', 'Three', 'Three', 'And', 'I', 'Good', 'Sir', 'Launcelot', 'God', 'Stop', 'Who', 'Bridge', 'Death', 'Ask', 'I', 'What', 'My', 'Sir', 'Launcelot', 'Camelot', 'What', 'To', 'Holy', 'Grail', 'What', 'Blue', 'Right', 'Off', 'Oh', 'Thank', 'That', 'Stop', 'Who', 'Bridge', 'Death', 'Ask', 'I', 'What', 'Sir', 'Robin', 'Camelot', 'What', 'To', 'Holy', 'Grail', 'What', 'Assyria', 'I', 'Auuuuuuuugh', 'Stop', 'What', 'Sir', 'Galahad', 'Camelot', 'What', 'I', 'Grail', 'What', 'Blue', 'No', 'Hee', 'Stop', 'What', 'It', 'Arthur', 'King', 'Britons', 'What', 'To', 'Holy', 'Grail', 'What', 'What', 'An', 'African', 'European', 'Huh', 'I', 'I', 'Auuuuuuuugh', 'How', 'Well', 'Launcelot', 'Launcelot', 'Launcelot', 'Launcelot', 'Launcelot', 'Launcelot', 'Launcelot', 'Launcelot', 'Launcelot', 'The', 'Castle', 'Aaagh', 'Our', 'God', 'Almighty', 'God', 'Thee', 'Thou', 'Jesus', 'Christ', 'Allo', 'English', 'Monsieur', 'Arthur', 'King', 'So', 'French', 'How', 'I', 'Knights', 'Camelot', 'God', 'Himself', 'How', 'English', 'I', 'So', 'French', 'I', 'In', 'Lord', 'No', 'English', 'I', 'If', 'In', 'God', 'Agh', 'Right', 'That', 'Yes', 'Ha', 'Walk', 'Just', 'And', 'And', 'English', 'Thpppt', 'We', 'Yes', 'Stand', 'French', 'Dappy', 'Today', 'In', 'God', 'Hoo', 'Ohh', 'Holy', 'Grail', 'God', 'Ha', 'Charge', 'Hooray', 'S', 'Yes', 'They', 'I', 'Come', 'Anybody', 'All', 'Come', 'Back', 'S', 'Get', 'Back', 'Right', 'Just', 'Come', 'Come', 'Put', 'Clear', 'Come', 'With', 'Which', 'Oh', 'Come', 'Put', 'Get', 'We', 'Ahh', 'Ooh', 'Come', 'Back', 'Riiight', 'Come', 'Run', 'Run', 'Pull', 'My', 'Come', 'Back', 'Back', 'Right', 'Come', 'Everything', 'All', 'That', 'Just', 'Christ']\n"
     ]
    }
   ],
   "source": [
    "# all title-style words\n",
    "print([word for word in text6 if word.istitle()])"
   ]
  },
  {
   "cell_type": "markdown",
   "metadata": {
    "ExecuteTime": {
     "end_time": "2020-10-13T21:49:07.297739Z",
     "start_time": "2020-10-13T21:49:07.276937Z"
    }
   },
   "source": [
    "__Q25__"
   ]
  },
  {
   "cell_type": "code",
   "execution_count": 43,
   "metadata": {
    "ExecuteTime": {
     "end_time": "2020-10-13T22:00:30.780275Z",
     "start_time": "2020-10-13T22:00:30.755913Z"
    }
   },
   "outputs": [
    {
     "name": "stdout",
     "output_type": "stream",
     "text": [
      "['she', 'shells', 'shore']\n",
      "['sells', 'shells', 'shore']\n"
     ]
    }
   ],
   "source": [
    "sent = ['she', 'sells', 'sea', 'shells', 'by', 'the', 'sea', 'shore']\n",
    "print([word for word in sent if word.startswith('sh')])\n",
    "print([word for word in sent if len(word) > 4])"
   ]
  },
  {
   "cell_type": "markdown",
   "metadata": {},
   "source": [
    "__Q26__"
   ]
  },
  {
   "cell_type": "markdown",
   "metadata": {},
   "source": [
    "`sum(len(w) for w in text1])` $\\rightarrow$ sum of all characters in text1"
   ]
  },
  {
   "cell_type": "code",
   "execution_count": 44,
   "metadata": {
    "ExecuteTime": {
     "end_time": "2020-10-13T22:00:31.013599Z",
     "start_time": "2020-10-13T22:00:30.784277Z"
    }
   },
   "outputs": [
    {
     "data": {
      "text/plain": [
       "3.830411128023649"
      ]
     },
     "execution_count": 44,
     "metadata": {},
     "output_type": "execute_result"
    }
   ],
   "source": [
    "sum(len(w) for w in text1) / len(text1) # average word length"
   ]
  },
  {
   "cell_type": "markdown",
   "metadata": {},
   "source": [
    "__Q27__"
   ]
  },
  {
   "cell_type": "code",
   "execution_count": 45,
   "metadata": {
    "ExecuteTime": {
     "end_time": "2020-10-13T22:00:31.044000Z",
     "start_time": "2020-10-13T22:00:31.024856Z"
    }
   },
   "outputs": [],
   "source": [
    "def vocab_size(text):\n",
    "    return len(set([w.lower() for w in text]))"
   ]
  },
  {
   "cell_type": "code",
   "execution_count": 46,
   "metadata": {
    "ExecuteTime": {
     "end_time": "2020-10-13T22:00:31.351513Z",
     "start_time": "2020-10-13T22:00:31.046998Z"
    }
   },
   "outputs": [
    {
     "data": {
      "text/plain": [
       "17231"
      ]
     },
     "execution_count": 46,
     "metadata": {},
     "output_type": "execute_result"
    }
   ],
   "source": [
    "vocab_size(text1)"
   ]
  },
  {
   "cell_type": "markdown",
   "metadata": {},
   "source": [
    "__Q28__"
   ]
  },
  {
   "cell_type": "code",
   "execution_count": 47,
   "metadata": {
    "ExecuteTime": {
     "end_time": "2020-10-13T22:00:31.367436Z",
     "start_time": "2020-10-13T22:00:31.357439Z"
    }
   },
   "outputs": [],
   "source": [
    "def percent(word, text):\n",
    "    return (text.count(word) / len(text)) * 100"
   ]
  },
  {
   "cell_type": "code",
   "execution_count": 48,
   "metadata": {
    "ExecuteTime": {
     "end_time": "2020-10-13T22:00:31.414787Z",
     "start_time": "2020-10-13T22:00:31.373864Z"
    }
   },
   "outputs": [
    {
     "data": {
      "text/plain": [
       "0.007769678476577951"
      ]
     },
     "execution_count": 48,
     "metadata": {},
     "output_type": "execute_result"
    }
   ],
   "source": [
    "percent('monstrous', text2)"
   ]
  },
  {
   "cell_type": "code",
   "execution_count": 49,
   "metadata": {
    "ExecuteTime": {
     "end_time": "2020-10-13T22:00:31.445621Z",
     "start_time": "2020-10-13T22:00:31.419786Z"
    }
   },
   "outputs": [
    {
     "data": {
      "text/plain": [
       "2.7271571452788606"
      ]
     },
     "execution_count": 49,
     "metadata": {},
     "output_type": "execute_result"
    }
   ],
   "source": [
    "percent('the', text2)"
   ]
  },
  {
   "cell_type": "markdown",
   "metadata": {},
   "source": [
    "__Q29__"
   ]
  },
  {
   "cell_type": "code",
   "execution_count": 50,
   "metadata": {
    "ExecuteTime": {
     "end_time": "2020-10-13T22:00:31.476483Z",
     "start_time": "2020-10-13T22:00:31.449621Z"
    }
   },
   "outputs": [
    {
     "data": {
      "text/plain": [
       "False"
      ]
     },
     "execution_count": 50,
     "metadata": {},
     "output_type": "execute_result"
    }
   ],
   "source": [
    "set(sent3) < set(sent1) # checks if sent3 is a subset of sent1"
   ]
  },
  {
   "cell_type": "code",
   "execution_count": 51,
   "metadata": {
    "ExecuteTime": {
     "end_time": "2020-10-13T22:00:31.506895Z",
     "start_time": "2020-10-13T22:00:31.480479Z"
    }
   },
   "outputs": [],
   "source": [
    "# for example\n",
    "a = {1,2}\n",
    "b = {1,2,3}\n",
    "c = {1,5}"
   ]
  },
  {
   "cell_type": "code",
   "execution_count": 52,
   "metadata": {
    "ExecuteTime": {
     "end_time": "2020-10-13T22:00:31.540637Z",
     "start_time": "2020-10-13T22:00:31.518894Z"
    }
   },
   "outputs": [
    {
     "data": {
      "text/plain": [
       "True"
      ]
     },
     "execution_count": 52,
     "metadata": {},
     "output_type": "execute_result"
    }
   ],
   "source": [
    "a < b"
   ]
  },
  {
   "cell_type": "code",
   "execution_count": 53,
   "metadata": {
    "ExecuteTime": {
     "end_time": "2020-10-13T22:00:31.568934Z",
     "start_time": "2020-10-13T22:00:31.547633Z"
    }
   },
   "outputs": [
    {
     "data": {
      "text/plain": [
       "False"
      ]
     },
     "execution_count": 53,
     "metadata": {},
     "output_type": "execute_result"
    }
   ],
   "source": [
    "c < b"
   ]
  }
 ],
 "metadata": {
  "hide_input": false,
  "kernelspec": {
   "display_name": "Python 3",
   "language": "python",
   "name": "python3"
  },
  "language_info": {
   "codemirror_mode": {
    "name": "ipython",
    "version": 3
   },
   "file_extension": ".py",
   "mimetype": "text/x-python",
   "name": "python",
   "nbconvert_exporter": "python",
   "pygments_lexer": "ipython3",
   "version": "3.8.3"
  },
  "toc": {
   "base_numbering": 1,
   "nav_menu": {},
   "number_sections": true,
   "sideBar": true,
   "skip_h1_title": false,
   "title_cell": "Table of Contents",
   "title_sidebar": "Contents",
   "toc_cell": false,
   "toc_position": {},
   "toc_section_display": true,
   "toc_window_display": false
  },
  "varInspector": {
   "cols": {
    "lenName": 16,
    "lenType": 16,
    "lenVar": 40
   },
   "kernels_config": {
    "python": {
     "delete_cmd_postfix": "",
     "delete_cmd_prefix": "del ",
     "library": "var_list.py",
     "varRefreshCmd": "print(var_dic_list())"
    },
    "r": {
     "delete_cmd_postfix": ") ",
     "delete_cmd_prefix": "rm(",
     "library": "var_list.r",
     "varRefreshCmd": "cat(var_dic_list()) "
    }
   },
   "types_to_exclude": [
    "module",
    "function",
    "builtin_function_or_method",
    "instance",
    "_Feature"
   ],
   "window_display": false
  }
 },
 "nbformat": 4,
 "nbformat_minor": 4
}
